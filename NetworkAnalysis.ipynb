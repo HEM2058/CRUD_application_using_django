{
  "nbformat": 4,
  "nbformat_minor": 0,
  "metadata": {
    "colab": {
      "provenance": [],
      "mount_file_id": "1fvCgQopoYhGQ8pkOHTSmKa66KMpJLlWu",
      "authorship_tag": "ABX9TyO1CcEdXcDEx7qmfFV3hMhK",
      "include_colab_link": true
    },
    "kernelspec": {
      "name": "python3",
      "display_name": "Python 3"
    },
    "language_info": {
      "name": "python"
    }
  },
  "cells": [
    {
      "cell_type": "markdown",
      "metadata": {
        "id": "view-in-github",
        "colab_type": "text"
      },
      "source": [
        "<a href=\"https://colab.research.google.com/github/HEM2058/CRUD_application_using_django/blob/main/NetworkAnalysis.ipynb\" target=\"_parent\"><img src=\"https://colab.research.google.com/assets/colab-badge.svg\" alt=\"Open In Colab\"/></a>"
      ]
    },
    {
      "cell_type": "code",
      "execution_count": 1,
      "metadata": {
        "colab": {
          "base_uri": "https://localhost:8080/"
        },
        "id": "hreiRiLIAce-",
        "outputId": "95d58cbe-a3a0-4f9a-9f25-c2db4ae11d00"
      },
      "outputs": [
        {
          "output_type": "stream",
          "name": "stderr",
          "text": [
            "WARNING:fiona._env:Several features with id = 1 have been found. Altering it to be unique. This warning will not be emitted anymore for this layer\n"
          ]
        },
        {
          "output_type": "stream",
          "name": "stdout",
          "text": [
            "Unique Geometry Types: ['Polygon' 'MultiLineString']\n"
          ]
        }
      ],
      "source": [
        "import geopandas as gpd\n",
        "\n",
        "# Load GeoJSON file into a GeoDataFrame\n",
        "file_path = \"/content/drive/MyDrive/Network Analysis/waterpipelinegeo.geojson\"\n",
        "gdf = gpd.read_file(file_path)\n",
        "\n",
        "# Check unique values in the \"geometry\" column\n",
        "unique_geometry_types = gdf[\"geometry\"].geom_type.unique()\n",
        "\n",
        "# Print the unique geometry types\n",
        "print(\"Unique Geometry Types:\", unique_geometry_types)\n"
      ]
    },
    {
      "cell_type": "code",
      "source": [],
      "metadata": {
        "id": "rPjvA0FyCSa8"
      },
      "execution_count": null,
      "outputs": []
    },
    {
      "cell_type": "code",
      "source": [
        "import geopandas as gpd\n",
        "import networkx as nx\n",
        "import matplotlib.pyplot as plt\n",
        "\n",
        "# Load GeoJSON file into a GeoDataFrame\n",
        "file_path = \"/content/drive/MyDrive/Network Analysis/waterpipelinegeo.geojson\"\n",
        "gdf = gpd.read_file(file_path)\n",
        "\n",
        "# Extract MultiLineString geometries\n",
        "pipeline_segments = gdf[gdf[\"geometry\"].type == \"MultiLineString\"]\n",
        "\n",
        "# Create an empty NetworkX graph\n",
        "G = nx.Graph()\n",
        "\n",
        "# Add pipeline segments to the graph\n",
        "for index, row in pipeline_segments.iterrows():\n",
        "    for line in row[\"geometry\"]:\n",
        "        for i in range(len(line.coords) - 1):\n",
        "            start_node = line.coords[i]\n",
        "            end_node = line.coords[i + 1]\n",
        "            G.add_edge(start_node, end_node)\n",
        "\n",
        "# Perform network analysis using NetworkX functions\n",
        "# For example:\n",
        "# - Calculate basic metrics: nx.number_of_nodes(G), nx.number_of_edges(G), etc.\n",
        "# - Find shortest paths: nx.shortest_path(G, source, target)\n",
        "# - Compute centrality measures: nx.betweenness_centrality(G), nx.closeness_centrality(G), etc.\n",
        "\n",
        "# Visualize the pipeline network\n",
        "pos = {node: (node[0], node[1]) for node in G.nodes()}\n",
        "nx.draw(G, pos, with_labels=False, node_size=5, edge_color='blue', alpha=0.5)\n",
        "plt.show()\n"
      ],
      "metadata": {
        "colab": {
          "base_uri": "https://localhost:8080/",
          "height": 292
        },
        "id": "wjvTpNvzEcem",
        "outputId": "6ef8be94-f4fc-4964-a473-d0e37e6388ad"
      },
      "execution_count": 2,
      "outputs": [
        {
          "output_type": "stream",
          "name": "stderr",
          "text": [
            "WARNING:fiona._env:Several features with id = 1 have been found. Altering it to be unique. This warning will not be emitted anymore for this layer\n"
          ]
        },
        {
          "output_type": "error",
          "ename": "TypeError",
          "evalue": "'MultiLineString' object is not iterable",
          "traceback": [
            "\u001b[0;31m---------------------------------------------------------------------------\u001b[0m",
            "\u001b[0;31mTypeError\u001b[0m                                 Traceback (most recent call last)",
            "\u001b[0;32m<ipython-input-2-24434900aa3f>\u001b[0m in \u001b[0;36m<cell line: 16>\u001b[0;34m()\u001b[0m\n\u001b[1;32m     15\u001b[0m \u001b[0;31m# Add pipeline segments to the graph\u001b[0m\u001b[0;34m\u001b[0m\u001b[0;34m\u001b[0m\u001b[0m\n\u001b[1;32m     16\u001b[0m \u001b[0;32mfor\u001b[0m \u001b[0mindex\u001b[0m\u001b[0;34m,\u001b[0m \u001b[0mrow\u001b[0m \u001b[0;32min\u001b[0m \u001b[0mpipeline_segments\u001b[0m\u001b[0;34m.\u001b[0m\u001b[0miterrows\u001b[0m\u001b[0;34m(\u001b[0m\u001b[0;34m)\u001b[0m\u001b[0;34m:\u001b[0m\u001b[0;34m\u001b[0m\u001b[0;34m\u001b[0m\u001b[0m\n\u001b[0;32m---> 17\u001b[0;31m     \u001b[0;32mfor\u001b[0m \u001b[0mline\u001b[0m \u001b[0;32min\u001b[0m \u001b[0mrow\u001b[0m\u001b[0;34m[\u001b[0m\u001b[0;34m\"geometry\"\u001b[0m\u001b[0;34m]\u001b[0m\u001b[0;34m:\u001b[0m\u001b[0;34m\u001b[0m\u001b[0;34m\u001b[0m\u001b[0m\n\u001b[0m\u001b[1;32m     18\u001b[0m         \u001b[0;32mfor\u001b[0m \u001b[0mi\u001b[0m \u001b[0;32min\u001b[0m \u001b[0mrange\u001b[0m\u001b[0;34m(\u001b[0m\u001b[0mlen\u001b[0m\u001b[0;34m(\u001b[0m\u001b[0mline\u001b[0m\u001b[0;34m.\u001b[0m\u001b[0mcoords\u001b[0m\u001b[0;34m)\u001b[0m \u001b[0;34m-\u001b[0m \u001b[0;36m1\u001b[0m\u001b[0;34m)\u001b[0m\u001b[0;34m:\u001b[0m\u001b[0;34m\u001b[0m\u001b[0;34m\u001b[0m\u001b[0m\n\u001b[1;32m     19\u001b[0m             \u001b[0mstart_node\u001b[0m \u001b[0;34m=\u001b[0m \u001b[0mline\u001b[0m\u001b[0;34m.\u001b[0m\u001b[0mcoords\u001b[0m\u001b[0;34m[\u001b[0m\u001b[0mi\u001b[0m\u001b[0;34m]\u001b[0m\u001b[0;34m\u001b[0m\u001b[0;34m\u001b[0m\u001b[0m\n",
            "\u001b[0;31mTypeError\u001b[0m: 'MultiLineString' object is not iterable"
          ]
        }
      ]
    }
  ]
}